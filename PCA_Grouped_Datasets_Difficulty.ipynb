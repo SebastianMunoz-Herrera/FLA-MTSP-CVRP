{
 "cells": [
  {
   "cell_type": "markdown",
   "metadata": {},
   "source": [
    "## Principal component analysis for Gruped data sets - Difficulty"
   ]
  },
  {
   "cell_type": "markdown",
   "metadata": {},
   "source": [
    "If you want to analyze the operator: \n",
    "- Relocate type \"REL\"\n",
    "- 2-OPT Fam. type \"OPT\"\n",
    "- Exchange type \"EX\"\n"
   ]
  },
  {
   "cell_type": "code",
   "execution_count": 1,
   "metadata": {},
   "outputs": [
    {
     "name": "stdout",
     "output_type": "stream",
     "text": [
      "REL\n"
     ]
    }
   ],
   "source": [
    "operator = raw_input()"
   ]
  },
  {
   "cell_type": "markdown",
   "metadata": {},
   "source": [
    "If you want to analyze the representation: \n",
    "- Delimiters type \"DEL\"\n",
    "- Giant-Tour type \"GT\""
   ]
  },
  {
   "cell_type": "code",
   "execution_count": 2,
   "metadata": {},
   "outputs": [
    {
     "name": "stdout",
     "output_type": "stream",
     "text": [
      "DEL\n"
     ]
    }
   ],
   "source": [
    "representation = raw_input()"
   ]
  },
  {
   "cell_type": "code",
   "execution_count": 3,
   "metadata": {},
   "outputs": [],
   "source": [
    "from numpy import eye, asarray, dot, sum, diag\n",
    "from numpy.linalg import svd\n",
    "def varimax(Phi, gamma = 1.0, q = 20, tol = 1e-6):\n",
    "    p,k = Phi.shape\n",
    "    R = eye(k)\n",
    "    d=0\n",
    "    for i in range(q):\n",
    "        d_old = d\n",
    "        Lambda = dot(Phi, R)\n",
    "        u,s,vh = svd(dot(Phi.T,asarray(Lambda)**3 - (gamma/p) * dot(Lambda, diag(diag(dot(Lambda.T,Lambda))))))\n",
    "        R = dot(u,vh)\n",
    "        d = sum(s)\n",
    "        if d_old!=0 and d/d_old < 1 + tol: break\n",
    "    return dot(Phi, R)"
   ]
  },
  {
   "cell_type": "code",
   "execution_count": 4,
   "metadata": {},
   "outputs": [],
   "source": [
    "import pandas as pd\n",
    "from sklearn.preprocessing import StandardScaler\n",
    "from sklearn.decomposition import PCA\n",
    "#from dmba import classificationSummary\n",
    "from sklearn.model_selection import train_test_split\n",
    "from sklearn.linear_model import LogisticRegression\n",
    "from sklearn.metrics import confusion_matrix\n",
    "\n",
    "datos = pd.read_csv('Data.csv')\n",
    "\n",
    "array = []\n",
    "\n",
    "for i in datos['INS']:\n",
    "    array.append(int(i.split('-')[1].replace('n', \"\")))\n",
    "    \n",
    "datos = datos[(datos['REP'] == representation) & ((datos['OPER'] == operator))]\n",
    "\n",
    "datos['SA_CLASS'] = pd.qcut(datos['SA_MEAN'], 2, labels = ['Low','High'])\n",
    "\n",
    "datos = datos.reset_index(drop=True)\n",
    "\n",
    "features = ['CL','PIC','IC','DB','SIC','MIC','FSR','RFB']\n",
    "\n",
    "# Separating out the features\n",
    "x = datos.loc[:, features].values\n",
    "\n",
    "# Separating out the target\n",
    "y = datos.loc[:,['SA_CLASS']].values\n",
    "\n",
    "# Standardizing the features\n",
    "x = StandardScaler().fit_transform(x)\n",
    "\n",
    "pca = PCA(n_components=3)\n",
    "principalComponents = pca.fit_transform(x)\n",
    "principalDf = pd.DataFrame(data = principalComponents\n",
    "             , columns = ['PC 1', 'PC 2', 'PC 3'])\n",
    "\n",
    "finalDf = pd.concat([principalDf, datos[['SA_CLASS','INS']]], axis = 1)\n",
    "\n",
    "var = pca.explained_variance_ratio_\n",
    "\n",
    "#finalDf\n",
    "\n",
    "import numpy as np\n",
    "loadings = pca.components_.T * np.sqrt(pca.explained_variance_)\n",
    "\n",
    "loading_matrix = pd.DataFrame(loadings, columns=['PC1', 'PC2','PC3'], index=features)\n",
    "#loading_matrix\n",
    "\n",
    "\n",
    "operator2 = 0\n",
    "representation2 = 0\n",
    "\n",
    "if representation == 'DEL':\n",
    "    representation2 = 'Delimiters'\n",
    "else:\n",
    "    representation2 = 'Giant-Tour'\n",
    "    \n",
    "if operator == 'REL':\n",
    "    operator2 = 'Relocate'\n",
    "elif operator == 'OPT':\n",
    "    operator2 = '2-Opt Family'\n",
    "else:\n",
    "    operator2 = 'Exchange'    \n",
    "\n",
    "\n",
    "import matplotlib.pylab as plt\n",
    "from mpl_toolkits.mplot3d import Axes3D, proj3d\n",
    "fig = plt.figure(figsize = (8,8))\n",
    "#ax = fig.add_subplot(1,1,1) \n",
    "ax = plt.axes(projection='3d')\n",
    "ax.set_xlabel('Principal Component 1 ({}%)'.format(round(var[0]*100,2)), fontsize = 9)\n",
    "ax.set_ylabel('Principal Component 2 ({}%)'.format(round(var[1]*100,2)), fontsize = 9)\n",
    "ax.set_zlabel('Principal Component 3 ({}%)'.format(round(var[2]*100,2)), fontsize = 9)\n",
    "ax.set_title('Projection of {0} - {1}'.format(operator2, representation2), fontsize = 11, fontweight=\"bold\", y=1.07, pad=-14)\n",
    "\n",
    "targets = ['Low','High']\n",
    "colors = ['g', 'r']\n",
    "\n",
    "for target, color in zip(targets,colors):\n",
    "    indicesToKeep = finalDf['SA_CLASS'] == target\n",
    "    ax.scatter3D(finalDf.loc[indicesToKeep, 'PC 1']\n",
    "               , finalDf.loc[indicesToKeep, 'PC 2'],\n",
    "                 finalDf.loc[indicesToKeep, 'PC 3'], c=color, s = 40)\n",
    "\n",
    "max_x = np.max(finalDf['PC 1'])\n",
    "min_y = np.min(finalDf['PC 2'])\n",
    "min_z = np.min(finalDf['PC 3'])\n",
    "\n",
    "\n",
    "f = lambda x,y,z: proj3d.proj_transform(x,y,z, ax.get_proj())[:2]\n",
    "ax.legend(targets, loc=\"lower right\", bbox_to_anchor=f(max_x,min_y,min_z), \n",
    "          bbox_transform=ax.transData)\n",
    "\n",
    "ax.grid()\n",
    "\n",
    "plt.savefig('PCA_DIF_{0}_{1}.png'.format(operator,representation), dpi = 300, bbox_inches = 'tight')\n"
   ]
  },
  {
   "cell_type": "code",
   "execution_count": 5,
   "metadata": {},
   "outputs": [
    {
     "data": {
      "text/html": [
       "<img src=\"PCA_DIF_REL_DEL.png\" width=\"400\" height=\"400\"/>"
      ],
      "text/plain": [
       "<IPython.core.display.Image object>"
      ]
     },
     "execution_count": 5,
     "metadata": {},
     "output_type": "execute_result"
    }
   ],
   "source": [
    "from IPython.display import Image\n",
    "Image(url = \"PCA_DIF_{0}_{1}.png\".format(operator,representation), width = 400, height = 400)"
   ]
  },
  {
   "cell_type": "code",
   "execution_count": null,
   "metadata": {},
   "outputs": [],
   "source": []
  }
 ],
 "metadata": {
  "kernelspec": {
   "display_name": "Python 2",
   "language": "python",
   "name": "python2"
  },
  "language_info": {
   "codemirror_mode": {
    "name": "ipython",
    "version": 2
   },
   "file_extension": ".py",
   "mimetype": "text/x-python",
   "name": "python",
   "nbconvert_exporter": "python",
   "pygments_lexer": "ipython2",
   "version": "2.7.14"
  }
 },
 "nbformat": 4,
 "nbformat_minor": 4
}
